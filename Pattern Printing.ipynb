{
 "cells": [
  {
   "cell_type": "code",
   "execution_count": 30,
   "metadata": {},
   "outputs": [
    {
     "name": "stdout",
     "output_type": "stream",
     "text": [
      "i \n",
      "i i \n",
      "i i i \n",
      "i i i i \n",
      "i i i i i \n"
     ]
    }
   ],
   "source": [
    "for i in range(5):\n",
    "    for j in range(i+1):\n",
    "        print(\"i\",end=\" \")\n",
    "    print()"
   ]
  },
  {
   "cell_type": "code",
   "execution_count": 2,
   "metadata": {},
   "outputs": [
    {
     "name": "stdout",
     "output_type": "stream",
     "text": [
      "*       * \n",
      "* *   * * \n",
      "*   *   * \n",
      "*       * \n",
      "*       * \n"
     ]
    }
   ],
   "source": [
    "for i in range(0,5):\n",
    "    for j in range(0,5):\n",
    "        if(j==0 or j==4):\n",
    "            print(\"*\",end=\" \")\n",
    "        elif(i==1 and (j==1 or j==3)):\n",
    "            print(\"*\",end=\" \")\n",
    "        elif(i==j==2):\n",
    "            print(\"*\",end=\" \")\n",
    "        else:\n",
    "            print(\" \",end=\" \")\n",
    "    print()"
   ]
  },
  {
   "cell_type": "code",
   "execution_count": 3,
   "metadata": {},
   "outputs": [
    {
     "name": "stdout",
     "output_type": "stream",
     "text": [
      "      *       \n",
      "    *   *     \n",
      "  * * * * *   \n",
      "*           * \n",
      "              \n"
     ]
    }
   ],
   "source": [
    "for i in range(0,5):\n",
    "    for j in range(0,7):\n",
    "        if(i==3 and (j==0 or j==6)):\n",
    "            print(\"*\",end=\" \")\n",
    "        elif(i==1 and (j==2 or j==4)):\n",
    "            print(\"*\",end=\" \")\n",
    "        elif(i==2 and (j==1 or j==2 or j==3 or j==4 or j==5)):\n",
    "            print(\"*\",end=\" \")\n",
    "        elif(i==0 and j==3):\n",
    "            print(\"*\",end=\" \")\n",
    "        else:\n",
    "            print(\" \",end=\" \")\n",
    "    print()"
   ]
  },
  {
   "cell_type": "code",
   "execution_count": 4,
   "metadata": {},
   "outputs": [
    {
     "name": "stdout",
     "output_type": "stream",
     "text": [
      "*         * \n",
      "* *     * * \n",
      "*   *     * \n",
      "  *     *   \n",
      "    * *     \n"
     ]
    }
   ],
   "source": [
    "for i in range(0,5):\n",
    "    for j in range(0,6):\n",
    "        if(i==0 and (j==0 or j==5)):\n",
    "            print(\"*\",end=\" \")\n",
    "        elif(i==1 and (j==0 or j==1 or j==4 or j==5)):\n",
    "            print(\"*\",end=\" \")\n",
    "        elif(i==2 and (j==0 or j==2 or j==5)):\n",
    "            print(\"*\",end=\" \")\n",
    "        elif(i==3 and (j==1 or j==4)):\n",
    "            print(\"*\",end=\" \")\n",
    "        elif(i==4 and (j==2 or j==3)):\n",
    "            print(\"*\",end=\" \")\n",
    "        else:\n",
    "            print(\" \",end=\" \")\n",
    "    print()"
   ]
  },
  {
   "cell_type": "code",
   "execution_count": 5,
   "metadata": {},
   "outputs": [
    {
     "name": "stdout",
     "output_type": "stream",
     "text": [
      "* *   \n",
      "*   * \n",
      "*   * \n",
      "*   * \n",
      "* *   \n"
     ]
    }
   ],
   "source": [
    "for i in range(0,5):\n",
    "    for j in range(0,3):\n",
    "        if(j==0):\n",
    "            print(\"*\",end=\" \")\n",
    "        elif(i==0 and (j==0 or j==1)):\n",
    "            print(\"*\",end=\" \")\n",
    "        elif(i==1 and j==2):\n",
    "            print(\"*\",end=\" \")\n",
    "        elif(i==2 and j==2):\n",
    "            print(\"*\",end=\" \")\n",
    "        elif(i==3 and j==2):\n",
    "            print(\"*\",end=\" \")\n",
    "        elif(i==4 and j==1):\n",
    "            print(\"*\",end=\" \")\n",
    "        else:\n",
    "            print(\" \",end=\" \")\n",
    "    print()"
   ]
  },
  {
   "cell_type": "code",
   "execution_count": 6,
   "metadata": {},
   "outputs": [
    {
     "name": "stdout",
     "output_type": "stream",
     "text": [
      "      3       \n",
      "    2 3 4     \n",
      "  1 2 3 4 5   \n",
      "0 1 2 3 4 5 6 \n"
     ]
    }
   ],
   "source": [
    "for i in range(0,4):\n",
    "    for j in range(0,7):\n",
    "        if(i==0 and j==3):\n",
    "            print(j,end=\" \")\n",
    "        elif(i==1 and (j==2 or j==3 or j==4)):\n",
    "            print(j,end=\" \")\n",
    "        elif(i==2 and (j==1 or j==2 or j==3 or j==4 or j==5)):\n",
    "            print(j,end=\" \")\n",
    "        elif(i==3 and (j==0 or j==1 or j==2 or j==3 or j==4 or j==5 or j==6)):\n",
    "            print(j,end=\" \")\n",
    "        else:\n",
    "            print(\" \",end=\" \")\n",
    "    print()"
   ]
  },
  {
   "cell_type": "code",
   "execution_count": 7,
   "metadata": {},
   "outputs": [
    {
     "name": "stdout",
     "output_type": "stream",
     "text": [
      "* * *         * * * * \n",
      "*   *       *         \n",
      "* *           *       \n",
      "* *             *     \n",
      "*   * *   * * * *     \n"
     ]
    }
   ],
   "source": [
    "from time import sleep\n",
    "for i in range(0,5):\n",
    "    for j in range(0,11):\n",
    "        if(j==0):\n",
    "            print(\"*\",end=\" \")\n",
    "            sleep(.3)\n",
    "        elif(i==0 and (j==1 or j==2)):\n",
    "            print(\"*\",end=\" \")\n",
    "            sleep(.3)\n",
    "        elif(i==1 and j==2):\n",
    "            print(\"*\",end=\" \")\n",
    "            sleep(.3)\n",
    "        elif(i==2 and j==1):\n",
    "            print(\"*\",end=\" \")\n",
    "            sleep(.3)\n",
    "        elif(i==3 and j==1):\n",
    "            print(\"*\",end=\" \")\n",
    "            sleep(.3)\n",
    "        elif(i==4 and (j==2 or j==3)):\n",
    "            print(\"*\",end=\" \")\n",
    "            sleep(.3)\n",
    "        elif(i==0 and (j==7 or j==8 or j==9 or j==10)):\n",
    "            print(\"*\",end=\" \")\n",
    "            sleep(.3)\n",
    "        elif(i==1 and j==6):\n",
    "            print(\"*\",end=\" \")\n",
    "            sleep(.3)\n",
    "        elif(i==2 and j==7):\n",
    "            print(\"*\",end=\" \")\n",
    "            sleep(.3)\n",
    "        elif(i==3 and j==8):\n",
    "            print(\"*\",end=\" \")\n",
    "            sleep(.3)\n",
    "        elif(i==4 and (j==3 or  j==5 or j==6 or j==7 or j==8)):\n",
    "            print(\"*\",end=\" \")\n",
    "            sleep(.3)\n",
    "        else:\n",
    "            print(\" \",end=\" \")\n",
    "            sleep(.3)\n",
    "    print()"
   ]
  },
  {
   "cell_type": "code",
   "execution_count": 8,
   "metadata": {},
   "outputs": [
    {
     "name": "stdout",
     "output_type": "stream",
     "text": [
      "*         * * * * * * * * * *     * *     * * *   * * * * *   * *   *       *             \n",
      "*         * *     *     *   *   *     *   *   *   *     *   * *   *   *   *               \n",
      "*         * * *   * *   * *     * * * *   * *     * *   *   * *   *     *                 \n",
      "  *     *   *     *     * *     *     *   * *     *     *   * *   *     *                 \n",
      "    *       * * * * * * *   * *         * *   *   * * * * *   * *       *                 \n"
     ]
    }
   ],
   "source": [
    "from time import  sleep\n",
    "for i in range(0,5):\n",
    "    for j in range(0,45):\n",
    "        if(i==0 and (j==0 or j==5  or j==6 or j==7 or j==8 or j==9 or j==10 or j==11 or j==12 or j==13 or j==14  or j==17 or j==18 or j==21 or j==22 or j==23 or j==25 or j==26 or j==27 or j==28 or j==29 or  j==31 or j==32 or j==34 or j==38)):\n",
    "            print(\"*\",end=\" \")\n",
    "            sleep(.2)\n",
    "        elif(i==1 and (j==0 or j==5 or j==6 or j==9 or j==12 or j==14 or j==16 or  j==19 or j==21 or j==23 or j==25 or j==28 or j==30 or j==31 or j==33 or j==35 or j==37)):\n",
    "            print(\"*\",end=\" \")\n",
    "            sleep(.2)\n",
    "        elif(i==2 and (j==0 or j==5 or j==6 or j==7 or j==9 or j==10 or j==12 or j==13 or j==16 or j==17 or j==18 or j==19 or j==21 or j==22 or j==25 or j==26 or j==28 or j==30 or j==31 or j==33 or j==36)):\n",
    "            print(\"*\",end=\" \")\n",
    "            sleep(.2)\n",
    "        elif(i==3 and (j==1 or j==4 or j==6 or j==9 or j==12 or j==13 or j==16 or j==19 or j==21 or j==22 or j==25 or j==28 or j==30 or j==31 or j==33 or j==36)):\n",
    "            print(\"*\",end=\" \")\n",
    "            sleep(.2)\n",
    "        elif(i==4 and (j==2 or j==6 or j==7 or j==8 or j==9 or j==10 or j==11 or j==12 or j==14 or j==15 or j==20 or j==21 or j==23 or j==25 or j==26 or j==27 or j==28 or j==29 or j==31 or j==32 or j==36)):\n",
    "            print(\"*\",end=\" \")\n",
    "            sleep(.2)\n",
    "        else:\n",
    "            print(\" \",end=\" \")\n",
    "            sleep(.2)\n",
    "    print()"
   ]
  },
  {
   "cell_type": "code",
   "execution_count": 9,
   "metadata": {},
   "outputs": [
    {
     "name": "stdout",
     "output_type": "stream",
     "text": [
      "* *       * * \n",
      "* *       * * \n",
      "* * * * * * * \n",
      "* * * * * * * \n",
      "  * * * * *   \n",
      "      *       \n"
     ]
    }
   ],
   "source": [
    "for i in range(0,6):\n",
    "    for j in range(0,7):\n",
    "        if(i==0 and (j==0 or j==1  or j==5 or j==6)):\n",
    "            print(\"*\",end=\" \")\n",
    "        elif(i==1 and (j==0 or j==1 or j==5 or j==6)):\n",
    "            print(\"*\",end=\" \")\n",
    "        elif(i==2 and (j==0 or j==1 or j==2 or j==3 or j==4 or j==5 or j==6)):\n",
    "            print(\"*\",end=\" \")\n",
    "        elif(i==3 and (j==0 or j==1 or j==2 or j==3 or j==4 or j==5 or j==6)):\n",
    "            print(\"*\",end=\" \")\n",
    "        elif(i==4 and (j==1 or j==2 or j==3 or j==4 or j==5)):\n",
    "            print(\"*\",end=\" \")\n",
    "        elif(i==5 and j==3):\n",
    "            print(\"*\",end=\" \")\n",
    "        else:\n",
    "            print(\" \",end=\" \")\n",
    "    print()"
   ]
  },
  {
   "cell_type": "code",
   "execution_count": 10,
   "metadata": {},
   "outputs": [
    {
     "data": {
      "text/plain": [
       "'yddeR kehsihbA'"
      ]
     },
     "execution_count": 10,
     "metadata": {},
     "output_type": "execute_result"
    }
   ],
   "source": [
    "s='Abhishek Reddy'\n",
    "s[::-1]"
   ]
  },
  {
   "cell_type": "code",
   "execution_count": 11,
   "metadata": {},
   "outputs": [
    {
     "name": "stdout",
     "output_type": "stream",
     "text": [
      "5 3\n"
     ]
    }
   ],
   "source": [
    "a=3\n",
    "b=5\n",
    "a,b=b,a\n",
    "print(a ,b)"
   ]
  },
  {
   "cell_type": "code",
   "execution_count": 12,
   "metadata": {},
   "outputs": [
    {
     "name": "stdout",
     "output_type": "stream",
     "text": [
      "yes\n"
     ]
    }
   ],
   "source": [
    "def ispolindrom(s):\n",
    "    return s == s[::-1]\n",
    "    \n",
    "s=\"malayalam\"\n",
    "ans=ispolindrom(s)\n",
    "if ans:\n",
    "    print(\"yes\")\n",
    "else:\n",
    "    print(\"no\")"
   ]
  },
  {
   "cell_type": "code",
   "execution_count": 3,
   "metadata": {},
   "outputs": [
    {
     "name": "stdout",
     "output_type": "stream",
     "text": [
      "          *     \n",
      "          * *   \n",
      "* * * * * * * * \n",
      "* * * * * * * * \n",
      "          * *   \n",
      "          *     \n"
     ]
    }
   ],
   "source": [
    "from time import sleep\n",
    "for i in range(6):\n",
    "    for j in range(8):\n",
    "        if(i==0 and j==5):\n",
    "            print(\"*\",end=\" \")\n",
    "            sleep(.2)\n",
    "        elif(i==1 and (j==5 or j==6)):\n",
    "            print(\"*\",end=\" \")\n",
    "            sleep(.2)\n",
    "        elif(i==2 and (j==0 or j==1 or j==2 or j==3 or j==4 or j==5 or j==6 or j==7)):\n",
    "            print(\"*\",end=\" \")\n",
    "            sleep(.2)\n",
    "        elif(i==3 and (j==0 or j==1 or j==2 or j==3 or j==4 or j==5 or j==6 or j==7)):\n",
    "            print(\"*\",end=\" \")\n",
    "            sleep(.2)\n",
    "        elif(i==4 and (j==5 or j==6)):\n",
    "            print(\"*\",end=\" \")\n",
    "            sleep(.2)\n",
    "        elif(i==5 and j==5):\n",
    "            print(\"*\",end=\" \")\n",
    "            sleep(.2)\n",
    "        else:\n",
    "            print(\" \",end=\" \")\n",
    "            \n",
    "    print()\n",
    "        "
   ]
  },
  {
   "cell_type": "code",
   "execution_count": 14,
   "metadata": {},
   "outputs": [],
   "source": [
    "from prettytable import PrettyTable"
   ]
  },
  {
   "cell_type": "code",
   "execution_count": 15,
   "metadata": {},
   "outputs": [],
   "source": [
    "x=PrettyTable()"
   ]
  },
  {
   "cell_type": "code",
   "execution_count": 16,
   "metadata": {},
   "outputs": [],
   "source": [
    "x.field_names=['Candidate id','Full Name','Marks Scored','Max marks']"
   ]
  },
  {
   "cell_type": "code",
   "execution_count": 17,
   "metadata": {},
   "outputs": [],
   "source": [
    "x.add_row([1,'Abhishek Reddy',80,100])\n",
    "x.add_row([2,'Ram Reddy',90,100])\n",
    "x.add_row([3,'Krish',50,100])\n",
    "x.add_row([4,'Deepak Reddy',60,100])\n",
    "x.add_row([5,'Ganga',65,100])\n",
    "x.add_row([6,'Priya',95,100])"
   ]
  },
  {
   "cell_type": "code",
   "execution_count": 18,
   "metadata": {},
   "outputs": [
    {
     "name": "stdout",
     "output_type": "stream",
     "text": [
      "+--------------+----------------+--------------+-----------+\n",
      "| Candidate id |   Full Name    | Marks Scored | Max marks |\n",
      "+--------------+----------------+--------------+-----------+\n",
      "|      1       | Abhishek Reddy |      80      |    100    |\n",
      "|      2       |   Ram Reddy    |      90      |    100    |\n",
      "|      3       |     Krish      |      50      |    100    |\n",
      "|      4       |  Deepak Reddy  |      60      |    100    |\n",
      "|      5       |     Ganga      |      65      |    100    |\n",
      "|      6       |     Priya      |      95      |    100    |\n",
      "+--------------+----------------+--------------+-----------+\n"
     ]
    }
   ],
   "source": [
    "print(x)"
   ]
  },
  {
   "cell_type": "code",
   "execution_count": 19,
   "metadata": {},
   "outputs": [
    {
     "name": "stdout",
     "output_type": "stream",
     "text": [
      "+--------------+--------------+--------------+-----------+\n",
      "| Candidate id |  Full Name   | Marks Scored | Max marks |\n",
      "+--------------+--------------+--------------+-----------+\n",
      "|      3       |    Krish     |      50      |    100    |\n",
      "|      4       | Deepak Reddy |      60      |    100    |\n",
      "|      5       |    Ganga     |      65      |    100    |\n",
      "+--------------+--------------+--------------+-----------+\n"
     ]
    }
   ],
   "source": [
    "print(x.get_string(start=2,end=5))"
   ]
  },
  {
   "cell_type": "code",
   "execution_count": 20,
   "metadata": {},
   "outputs": [
    {
     "name": "stdout",
     "output_type": "stream",
     "text": [
      "+----------------+--------------+\n",
      "|   Full Name    | Marks Scored |\n",
      "+----------------+--------------+\n",
      "| Abhishek Reddy |      80      |\n",
      "|   Ram Reddy    |      90      |\n",
      "|     Krish      |      50      |\n",
      "|  Deepak Reddy  |      60      |\n",
      "|     Ganga      |      65      |\n",
      "|     Priya      |      95      |\n",
      "+----------------+--------------+\n"
     ]
    }
   ],
   "source": [
    "print(x.get_string(fields=['Full Name','Marks Scored']))"
   ]
  },
  {
   "cell_type": "code",
   "execution_count": 21,
   "metadata": {},
   "outputs": [
    {
     "name": "stdout",
     "output_type": "stream",
     "text": [
      "+--------------+----------------+--------------+-----------+\n",
      "| Candidate id | Full Name      | Marks Scored | Max marks |\n",
      "+--------------+----------------+--------------+-----------+\n",
      "| 1            | Abhishek Reddy | 80           | 100       |\n",
      "| 2            | Ram Reddy      | 90           | 100       |\n",
      "| 3            | Krish          | 50           | 100       |\n",
      "| 4            | Deepak Reddy   | 60           | 100       |\n",
      "| 5            | Ganga          | 65           | 100       |\n",
      "| 6            | Priya          | 95           | 100       |\n",
      "+--------------+----------------+--------------+-----------+\n"
     ]
    }
   ],
   "source": [
    "x.align='l'\n",
    "print(x)"
   ]
  },
  {
   "cell_type": "code",
   "execution_count": 38,
   "metadata": {},
   "outputs": [
    {
     "name": "stdout",
     "output_type": "stream",
     "text": [
      "+--------------+----------------+--------------+-----------+\n",
      "| Candidate id | Full Name      | Marks Scored | Max marks |\n",
      "+--------------+----------------+--------------+-----------+\n",
      "| 1            | Abhishek Reddy | 80           | 100       |\n",
      "| 4            | Deepak Reddy   | 60           | 100       |\n",
      "| 5            | Ganga          | 65           | 100       |\n",
      "| 3            | Krish          | 50           | 100       |\n",
      "| 6            | Priya          | 95           | 100       |\n",
      "| 2            | Ram Reddy      | 90           | 100       |\n",
      "+--------------+----------------+--------------+-----------+\n"
     ]
    }
   ],
   "source": [
    "print(x.get_string(sortby='Full Name'))"
   ]
  },
  {
   "cell_type": "code",
   "execution_count": 24,
   "metadata": {},
   "outputs": [
    {
     "name": "stdout",
     "output_type": "stream",
     "text": [
      "  * *           \n",
      "*   *           \n",
      "  * * *     *   \n",
      "*   *   * *     \n",
      "  * *           \n"
     ]
    }
   ],
   "source": [
    " for i in range(5):\n",
    "        for j in range(8):\n",
    "            if(i==0 and ( j==1 or j==2)):\n",
    "                print(\"*\",end=\" \")\n",
    "            elif(i==1 and (j==0 or  j==2)):\n",
    "                print(\"*\",end=\" \")\n",
    "            elif(i==2 and (j==1 or j==2 or j==3 or  j==6)):\n",
    "                print(\"*\",end=\" \")\n",
    "            elif(i==3 and (j==0 or j==2 or j==4 or j==5)):\n",
    "                print(\"*\",end=\" \")\n",
    "            elif(i==4 and (j==1 or j==2)):\n",
    "                print(\"*\",end=\" \")\n",
    "            else:\n",
    "                print(\" \",end=\" \")\n",
    "        print()\n",
    "            "
   ]
  },
  {
   "cell_type": "code",
   "execution_count": null,
   "metadata": {},
   "outputs": [],
   "source": []
  }
 ],
 "metadata": {
  "kernelspec": {
   "display_name": "Python 3",
   "language": "python",
   "name": "python3"
  },
  "language_info": {
   "codemirror_mode": {
    "name": "ipython",
    "version": 3
   },
   "file_extension": ".py",
   "mimetype": "text/x-python",
   "name": "python",
   "nbconvert_exporter": "python",
   "pygments_lexer": "ipython3",
   "version": "3.8.5"
  }
 },
 "nbformat": 4,
 "nbformat_minor": 4
}
